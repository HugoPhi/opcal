{
 "cells": [
  {
   "cell_type": "markdown",
   "id": "21203633-cfdd-46f0-88f4-8012bc60fd5d",
   "metadata": {},
   "source": [
    "# Numerical Integration \n",
    "\n",
    "- **Rectangular Method**: Simple but low accuracy.\n",
    "- **Trapezoidal Rule**: Better accuracy for smooth functions.\n",
    "- **Simpson's Rule**: High accuracy for smooth functions.\n",
    "- **Gaussian Quadrature**: High accuracy with minimal evaluations.\n",
    "- **Monte Carlo**: Suitable for high-dimensional integrals."
   ]
  },
  {
   "cell_type": "code",
   "execution_count": 1,
   "id": "6f47508c-699b-4317-830b-a3d0390a3cf5",
   "metadata": {},
   "outputs": [],
   "source": [
    "import numpy as np"
   ]
  },
  {
   "cell_type": "markdown",
   "id": "0e508876-f483-4025-833b-e79abf7f5da8",
   "metadata": {},
   "source": [
    "## # **Rectangular Method (Midpoint Rule)**\n",
    "\n",
    "The rectangular method approximates the integral by dividing the area under the curve into rectangles. The height of each rectangle is determined by the value of the function at the midpoint of the interval.\n",
    "\n",
    "#### Formula:\n",
    "\n",
    "For a function $f(x)$ over the interval $[a, b]$, divided into $n$ subintervals of equal width $h = \\frac{b - a}{n}$, the integral is approximated as:\n",
    "\n",
    "$$\n",
    "\\int_a^b f(x) \\, dx \\approx h \\sum_{i=0}^{n-1} f\\left(a + \\frac{h}{2} + i \\cdot h\\right)\n",
    "$$\n",
    "\n",
    "Here, $a + \\frac{h}{2} + i \\cdot h$ is the midpoint of the $i$-th subinterval."
   ]
  },
  {
   "cell_type": "code",
   "execution_count": 2,
   "id": "c02eb50a-2bed-4586-8b99-a8cdc2ffb612",
   "metadata": {},
   "outputs": [],
   "source": [
    "def rectangular(f, a, b, n):\n",
    "    h = (b - a) / n\n",
    "    x_mid = a + h/2 + np.arange(n) * h\n",
    "    return h * np.sum(f(x_mid))"
   ]
  },
  {
   "cell_type": "markdown",
   "id": "a8ce30e7-ebd8-416b-9712-56d9db2fbbbf",
   "metadata": {},
   "source": [
    "## # **Trapezoidal Rule**\n",
    "\n",
    "The trapezoidal rule approximates the integral by dividing the area under the curve into trapezoids. The area of each trapezoid is calculated using the average of the function values at the endpoints of the interval.\n",
    "\n",
    "#### Formula:\n",
    "\n",
    "For a function $f(x)$ over the interval $[a, b]$, divided into $n$ subintervals of equal width $h = \\frac{b - a}{n}$, the integral is approximated as:\n",
    "\n",
    "$$\n",
    "\\int_a^b f(x) \\, dx \\approx \\frac{h}{2} \\left( f(a) + 2 \\sum_{i=1}^{n-1} f(a + i \\cdot h) + f(b) \\right)\n",
    "$$"
   ]
  },
  {
   "cell_type": "code",
   "execution_count": 3,
   "id": "04349e20-8be7-409a-9bc5-4a973b112175",
   "metadata": {},
   "outputs": [],
   "source": [
    "def trapezoidal(f, a, b, n):\n",
    "    h = (b - a) / n\n",
    "    x = np.linspace(a, b, n+1)\n",
    "    y = f(x)\n",
    "    return h/2 * (y[0] + 2 * np.sum(y[1:-1]) + y[-1])"
   ]
  },
  {
   "cell_type": "markdown",
   "id": "0de8f4e2-8829-4656-8638-0a1bfa968225",
   "metadata": {},
   "source": [
    "## # **Simpson's Rule**\n",
    "\n",
    "Simpson's rule approximates the integral by fitting a quadratic polynomial to pairs of subintervals and integrating the polynomial. It provides higher accuracy for smooth functions.\n",
    "\n",
    "#### Formula:\n",
    "\n",
    "For a function $f(x)$ over the interval $[a, b]$, divided into $n$ subintervals (where $n$ is even) of equal width $h = \\frac{b - a}{n}$, the integral is approximated as:\n",
    "\n",
    "$$\n",
    "\\int_a^b f(x) \\, dx \\approx \\frac{h}{3} \\left( f(a) + 4 \\sum_{i=1,3,5,\\dots}^{n-1} f(a + i \\cdot h) + 2 \\sum_{i=2,4,6,\\dots}^{n-2} f(a + i \\cdot h) + f(b) \\right)\n",
    "$$"
   ]
  },
  {
   "cell_type": "code",
   "execution_count": 4,
   "id": "715b37db-482e-4444-a057-a4b0e1a82a38",
   "metadata": {},
   "outputs": [],
   "source": [
    "def simpson(f, a, b, n):\n",
    "    if n % 2 != 0:\n",
    "        raise ValueError(\"n must be even\")\n",
    "    h = (b - a) / n\n",
    "    x = np.linspace(a, b, n+1)\n",
    "    y = f(x)\n",
    "    integral = y[0] + y[-1]\n",
    "    integral += 4 * np.sum(y[1:-1:2])  # 奇数点\n",
    "    integral += 2 * np.sum(y[2:-1:2])  # 偶数点\n",
    "    return integral * h / 3"
   ]
  },
  {
   "cell_type": "markdown",
   "id": "33278162-caf3-4469-8506-d86d14e7c133",
   "metadata": {},
   "source": [
    "## # **Gaussian Quadrature**\n",
    "\n",
    "Gaussian quadrature is a numerical integration method that uses optimally chosen points (nodes) and weights to achieve high accuracy with fewer function evaluations. The two-point Gaussian quadrature is exact for polynomials of degree up to 3.\n",
    "\n",
    "#### Formula:\n",
    "\n",
    "For a function $f(x)$ over the interval $[-1, 1]$, the integral is approximated as:\n",
    "\n",
    "$$\n",
    "\\int_{-1}^1 f(x) \\, dx \\approx f\\left(-\\frac{1}{\\sqrt{3}}\\right) + f\\left(\\frac{1}{\\sqrt{3}}\\right)\n",
    "$$\n",
    "\n",
    "For a general interval $[a, b]$, the transformation $x = \\frac{b - a}{2} t + \\frac{a + b}{2}$ is applied:\n",
    "\n",
    "$$\n",
    "\\int_a^b f(x) \\, dx \\approx \\frac{b - a}{2} \\left( f\\left(\\frac{b - a}{2} \\cdot -\\frac{1}{\\sqrt{3}} + \\frac{a + b}{2}\\right) + f\\left(\\frac{b - a}{2} \\cdot \\frac{1}{\\sqrt{3}} + \\frac{a + b}{2}\\right) \\right)\n",
    "$$"
   ]
  },
  {
   "cell_type": "code",
   "execution_count": 5,
   "id": "f4d67a59-b261-4f74-aa21-54a02799bff2",
   "metadata": {},
   "outputs": [],
   "source": [
    "def gauss_quadrature(f, a, b):\n",
    "    t = np.sqrt(1/3)\n",
    "    nodes = np.array([-t, t])\n",
    "    x = (b - a)/2 * nodes + (a + b)/2\n",
    "    return (b - a)/2 * np.sum(f(x))"
   ]
  },
  {
   "cell_type": "markdown",
   "id": "9a8d9fbe-18f0-4ce4-bf76-01ce341d4fd0",
   "metadata": {},
   "source": [
    "## # **Monte Carlo Integration**\n",
    "\n",
    "Monte Carlo integration estimates the integral by randomly sampling points within the integration domain and averaging the function values. It is particularly useful for high-dimensional integrals.\n",
    "\n",
    "#### Formula:\n",
    "\n",
    "For a function $f(x)$ over the interval $[a, b]$, the integral is approximated as:\n",
    "\n",
    "$$\n",
    "\\int_a^b f(x) \\, dx \\approx (b - a) \\cdot \\frac{1}{N} \\sum_{i=1}^N f(x_i)\n",
    "$$\n",
    "\n",
    "where $x_i$ are random samples uniformly distributed in $[a, b]$.\n",
    "\n",
    "For a multidimensional function $f(\\mathbf{x})$ over a hypercube $[a, b]^d$, the integral is approximated as:\n",
    "\n",
    "$$\n",
    "\\int_{[a, b]^d} f(\\mathbf{x}) \\, d\\mathbf{x} \\approx (b - a)^d \\cdot \\frac{1}{N} \\sum_{i=1}^N f(\\mathbf{x}_i)\n",
    "$$\n",
    "where $\\mathbf{x}_i$ are random samples uniformly distributed in $[a, b]^d$."
   ]
  },
  {
   "cell_type": "code",
   "execution_count": 6,
   "id": "01b50318-6439-4713-ab85-0c84db01ddce",
   "metadata": {},
   "outputs": [],
   "source": [
    "def monte_carlo_1d(f, a, b, num_samples):\n",
    "    x = np.random.uniform(a, b, num_samples)\n",
    "    return (b - a) * np.mean(f(x))"
   ]
  },
  {
   "cell_type": "code",
   "execution_count": 7,
   "id": "591c97cb-4b97-4d71-af12-ff58365c77cc",
   "metadata": {},
   "outputs": [],
   "source": [
    "def monte_carlo_md(f, a, b, dim, num_samples):\n",
    "    samples = np.random.uniform(a, b, (num_samples, dim))\n",
    "    volume = (b - a)**dim\n",
    "    return volume * np.mean(f(samples))"
   ]
  },
  {
   "cell_type": "markdown",
   "id": "fb0275fb-626c-4f73-abb4-00bcfe984d51",
   "metadata": {},
   "source": [
    "## # Examples"
   ]
  },
  {
   "cell_type": "markdown",
   "id": "7482a407-f4b0-474e-bd1d-066c18542092",
   "metadata": {},
   "source": [
    "$$\n",
    "\\int_{0}^{1} x^2 dx = {1 \\over 3}\n",
    "$$"
   ]
  },
  {
   "cell_type": "code",
   "execution_count": 8,
   "id": "c9b1575d-4786-432a-9842-53c8bd1816de",
   "metadata": {},
   "outputs": [
    {
     "name": "stdout",
     "output_type": "stream",
     "text": [
      "Result of rectangular method:  0.33333324999999997\n",
      "Result of trapezoidal method:  0.33333349999999995\n",
      "Result of gauss_quadrature method:  0.33333333333333337\n",
      "Result of monte_carlo_1d method:  0.3336193530309507\n"
     ]
    }
   ],
   "source": [
    "f1 = lambda x: x**2\n",
    "a1, b1, n1 = 0, 1, 1000\n",
    "print(\"Result of rectangular method: \", rectangular(f1, a1, b1, n1))\n",
    "print(\"Result of trapezoidal method: \", trapezoidal(f1, a1, b1, n1))\n",
    "print(\"Result of gauss_quadrature method: \", gauss_quadrature(f1, a1, b1))\n",
    "np.random.seed(42)\n",
    "samples = 10**6\n",
    "print(\"Result of monte_carlo_1d method: \", monte_carlo_1d(f1, a1, b1, samples))"
   ]
  },
  {
   "cell_type": "markdown",
   "id": "66ec49d4-e70b-4d66-b3c7-0a4e6e00b17e",
   "metadata": {},
   "source": [
    "$$\n",
    "\\int_{0}^{2} x^3 dx = 4\n",
    "$$"
   ]
  },
  {
   "cell_type": "code",
   "execution_count": 9,
   "id": "a7ff6546-8e9b-46fb-ac03-d6d718b6dd2f",
   "metadata": {},
   "outputs": [
    {
     "name": "stdout",
     "output_type": "stream",
     "text": [
      "Result of simpson method:  4.0\n"
     ]
    }
   ],
   "source": [
    "f2 = lambda x: x**3\n",
    "a2, b2, n2 = 0, 2, 2\n",
    "print(\"Result of simpson method: \", simpson(f2, a2, b2, n2))"
   ]
  },
  {
   "cell_type": "markdown",
   "id": "c99df1db-3e8f-4fc8-9a69-4fca855a0066",
   "metadata": {},
   "source": [
    "$$\n",
    "\\iint_{0\\le x\\le 1,0\\le y\\le 1} x^2 + y^2 dxdy\n",
    "$$"
   ]
  },
  {
   "cell_type": "code",
   "execution_count": 10,
   "id": "b8c9b291-cad9-43ad-918f-98b430f5ffe6",
   "metadata": {},
   "outputs": [
    {
     "name": "stdout",
     "output_type": "stream",
     "text": [
      "Result of monte carlo 2d method:  0.666216695386479\n"
     ]
    }
   ],
   "source": [
    "f_md = lambda x: x[:,0]**2 + x[:,1]**2\n",
    "dim = 2\n",
    "print(\"Result of monte carlo 2d method: \", monte_carlo_md(f_md, 0, 1, dim, samples))"
   ]
  }
 ],
 "metadata": {
  "kernelspec": {
   "display_name": "Python 3 (ipykernel)",
   "language": "python",
   "name": "python3"
  },
  "language_info": {
   "codemirror_mode": {
    "name": "ipython",
    "version": 3
   },
   "file_extension": ".py",
   "mimetype": "text/x-python",
   "name": "python",
   "nbconvert_exporter": "python",
   "pygments_lexer": "ipython3",
   "version": "3.8.19"
  }
 },
 "nbformat": 4,
 "nbformat_minor": 5
}
